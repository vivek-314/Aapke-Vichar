{
  "cells": [
    {
      "cell_type": "markdown",
      "metadata": {
        "id": "view-in-github",
        "colab_type": "text"
      },
      "source": [
        "<a href=\"https://colab.research.google.com/github/vivek-314/Aapke-Vichar/blob/main/ES114_PSDV_Prerequisite(24110089).ipynb\" target=\"_parent\"><img src=\"https://colab.research.google.com/assets/colab-badge.svg\" alt=\"Open In Colab\"/></a>"
      ]
    },
    {
      "cell_type": "code",
      "execution_count": null,
      "id": "0a352d10-8fd9-41ae-aabc-51ecad53a570",
      "metadata": {
        "id": "0a352d10-8fd9-41ae-aabc-51ecad53a570",
        "outputId": "50fb0976-5be8-498b-eeea-e183e99d47bb"
      },
      "outputs": [
        {
          "name": "stdout",
          "output_type": "stream",
          "text": [
            "sum of even numbers in l= 110\n",
            "product of odd numbers in l= 654729075\n",
            "mean= 10.5\n",
            "median= 10.5\n",
            "standard deviation of list is 5.766281297335398\n"
          ]
        }
      ],
      "source": [
        "#QUESTION 1:\n",
        "import statistics\n",
        "l=[1,2,3,4,5,6,7,8,9,10,11,12,13,14,15,16,17,18,19,20]\n",
        "seven=0\n",
        "sodd=1\n",
        "for i in l:\n",
        "    if i%2==0:\n",
        "        seven+=i\n",
        "    else:\n",
        "        sodd=sodd*i\n",
        "print('sum of even numbers in l=',seven)\n",
        "print('product of odd numbers in l=',sodd)\n",
        "\n",
        "mean=sum(l)/len(l) #sum of all elements in list l\n",
        "print('mean=',mean)\n",
        "\n",
        "median=statistics.median(l)\n",
        "print('median=',median)\n",
        "\n",
        "print('standard deviation of list is',statistics.pstdev(l))        #using directly inbuild functions\n"
      ]
    },
    {
      "cell_type": "code",
      "execution_count": null,
      "id": "bc56bdfd-b495-4365-9a6d-705ce66c4e0d",
      "metadata": {
        "id": "bc56bdfd-b495-4365-9a6d-705ce66c4e0d"
      },
      "outputs": [],
      "source": [
        "QUESTION 2:\n",
        "Mutable type of data can be changed directly in every step for example list is mutable we can use pop to remove any index data.examples of mutable are list, dictionaries.\n",
        "Non-Mutable data types cannot be changed directly like tuples to add or remove element from tuple we need to convert it into list. examples of non mutable are strings, tuple, integers."
      ]
    },
    {
      "cell_type": "code",
      "execution_count": null,
      "id": "384a5575-e77b-45e1-8207-8bb74eb8c2ea",
      "metadata": {
        "id": "384a5575-e77b-45e1-8207-8bb74eb8c2ea",
        "outputId": "d704ee01-cde3-46c3-cb3d-0e3bea62b69c"
      },
      "outputs": [
        {
          "name": "stdin",
          "output_type": "stream",
          "text": [
            " 6\n"
          ]
        },
        {
          "name": "stdout",
          "output_type": "stream",
          "text": [
            "1,1,2,3,5,8,"
          ]
        }
      ],
      "source": [
        "#QUESTION 3: Fibonacci Sequence\n",
        "n=int(input())\n",
        "def fib(n):\n",
        "    if n==0:\n",
        "        return 0\n",
        "    if n==1:\n",
        "        return 1\n",
        "    else:\n",
        "        return fib(n-1)+fib(n-2)\n",
        "# print(fib(6))\n",
        "i=1\n",
        "while i<=n:\n",
        "    print(fib(i),end=',')\n",
        "    i+=1\n",
        "\n",
        "from matplotlib import pyplot as plt\n",
        "x_axis="
      ]
    },
    {
      "cell_type": "code",
      "execution_count": null,
      "id": "88782622-b002-429b-afb2-08b0a27f885f",
      "metadata": {
        "id": "88782622-b002-429b-afb2-08b0a27f885f",
        "outputId": "067a00ed-ca87-43bc-cfe8-d7eaefa563fd"
      },
      "outputs": [
        {
          "name": "stdout",
          "output_type": "stream",
          "text": [
            "mean= 7.833333333333333\n",
            "median= 7.5\n"
          ]
        }
      ],
      "source": [
        "#QUESTION 4: List manupulation\n",
        "list = [3, 5, 7, 9, 11, 13]\n",
        "list.insert(3,6)\n",
        "list.remove(7)\n",
        "list.reverse()\n",
        "t=len(list)\n",
        "print('mean=',sum(list)/t)\n",
        "\n",
        "list.sort()\n",
        "if t%2==0:\n",
        "    print('median=',(list[t//2]+list[t//2 -1])/2)\n",
        "else:\n",
        "    print('median=',list[t//2])"
      ]
    },
    {
      "cell_type": "code",
      "execution_count": null,
      "id": "8302fb68-461c-430e-bf04-7a61c7739583",
      "metadata": {
        "id": "8302fb68-461c-430e-bf04-7a61c7739583",
        "outputId": "76eed778-89ed-4965-998d-2ab00af68bbc"
      },
      "outputs": [
        {
          "name": "stdin",
          "output_type": "stream",
          "text": [
            " 10, 20, 30, 40\n"
          ]
        },
        {
          "name": "stdout",
          "output_type": "stream",
          "text": [
            "mean= 25.0\n",
            "smallest= 10\n",
            "largest= 40\n"
          ]
        }
      ],
      "source": [
        "#QUESTION 5: User Input and Basic Statistics\n",
        "n=input().strip(',').split(',')\n",
        "n=[int(i) for i in n]\n",
        "# print(n)\n",
        "print('mean=',sum(n)/len(n))\n",
        "print('smallest=',min(n))\n",
        "print('largest=',max(n))\n"
      ]
    },
    {
      "cell_type": "code",
      "execution_count": null,
      "id": "0dd46fbc-f903-48eb-ac2f-39968f6a3135",
      "metadata": {
        "id": "0dd46fbc-f903-48eb-ac2f-39968f6a3135",
        "outputId": "73c53d0d-13d6-4e4b-8b7e-7a27c3640629"
      },
      "outputs": [
        {
          "name": "stdin",
          "output_type": "stream",
          "text": [
            " A man a plan a canal Panama\n"
          ]
        },
        {
          "name": "stdout",
          "output_type": "stream",
          "text": [
            "True\n"
          ]
        }
      ],
      "source": [
        "#QUESTION 6: Palindrome Check\n",
        "t=input()\n",
        "n=t.lower()\n",
        "letter=[char for char in n if char != ' ']\n",
        "\n",
        "reversed=letter[::-1]\n",
        "if letter==reversed:\n",
        "    print('True')\n",
        "else:\n",
        "    print('False')\n"
      ]
    },
    {
      "cell_type": "code",
      "execution_count": 17,
      "id": "1da4975a-9f72-469d-a4be-51980cdfbd80",
      "metadata": {
        "colab": {
          "base_uri": "https://localhost:8080/",
          "height": 106
        },
        "id": "1da4975a-9f72-469d-a4be-51980cdfbd80",
        "outputId": "d433769e-d4c1-430a-b2a7-7e59abd8d32c"
      },
      "outputs": [
        {
          "output_type": "error",
          "ename": "SyntaxError",
          "evalue": "invalid syntax. Perhaps you forgot a comma? (<ipython-input-17-a5ffc1ca81b8>, line 3)",
          "traceback": [
            "\u001b[0;36m  File \u001b[0;32m\"<ipython-input-17-a5ffc1ca81b8>\"\u001b[0;36m, line \u001b[0;32m3\u001b[0m\n\u001b[0;31m    s=list(dictionary.values[])\u001b[0m\n\u001b[0m           ^\u001b[0m\n\u001b[0;31mSyntaxError\u001b[0m\u001b[0;31m:\u001b[0m invalid syntax. Perhaps you forgot a comma?\n"
          ]
        }
      ],
      "source": [
        "#QUESTION 7: Dictionary Operations\n",
        "dictionary={'rahul':40,'arjun':38,'vishal':48}\n",
        "s=list(dictionary.values())\n",
        "sum=0\n",
        "for i in s:\n",
        "    sum+=i\n",
        "avg=sum/len(s)\n",
        "print(avg)\n",
        "\n",
        "t=list(dictionary.keys())\n",
        "\n",
        "for i in s:\n",
        "    if s>avg:\n",
        "        print(t.index[s.index(i)])"
      ]
    },
    {
      "cell_type": "code",
      "execution_count": 4,
      "id": "427aedc4-90ba-4c41-b678-e0c2862cd783",
      "metadata": {
        "colab": {
          "base_uri": "https://localhost:8080/",
          "height": 470
        },
        "id": "427aedc4-90ba-4c41-b678-e0c2862cd783",
        "outputId": "a1542c5e-58d5-4b73-b5f7-558241f00ff7"
      },
      "outputs": [
        {
          "output_type": "stream",
          "name": "stdout",
          "text": [
            "10\n",
            "[(1, 1), (2, 4), (3, 9), (4, 16), (5, 25), (6, 36), (7, 49), (8, 64), (9, 81), (10, 100)]\n"
          ]
        },
        {
          "output_type": "display_data",
          "data": {
            "text/plain": [
              "<Figure size 640x480 with 1 Axes>"
            ],
            "image/png": "[encoded data removed]"
          },
          "metadata": {}
        }
      ],
      "source": [
        "#QUESTION 8: Tuple List Creation\n",
        "n=int(input())\n",
        "l=[(i,i**2) for i in range(1,n+1)]  # help taken from google to find shortest way to fit tuple in list\n",
        "print(l)\n",
        "\n",
        "import matplotlib.pyplot as plt\n",
        "for i in range(1,n+1):\n",
        "    (x,y)=(i,i**2)\n",
        "\n",
        "# xpoints=np.array(0,10)\n",
        "# ypoints=np.array(0,100)\n",
        "\n",
        "plt.scatter(x,y,color='blue')\n",
        "plt.xlim(1,n)\n",
        "plt.ylim(1,n*n)\n",
        "plt.show()\n"
      ]
    },
    {
      "cell_type": "code",
      "execution_count": 14,
      "id": "a9156c91-1ebd-419b-8a32-ea1a7383bcd6",
      "metadata": {
        "colab": {
          "base_uri": "https://localhost:8080/"
        },
        "id": "a9156c91-1ebd-419b-8a32-ea1a7383bcd6",
        "outputId": "2bcb54a1-42e3-45ab-b934-2edd39a9bf94"
      },
      "outputs": [
        {
          "output_type": "stream",
          "name": "stdout",
          "text": [
            "25\n",
            "{'a': 10, 'b': 25, 'c': 15}\n"
          ]
        }
      ],
      "source": [
        "#QUESTION 9:Merging Dictionaries\n",
        "dict1 = {'a': 10, 'b': 20}\n",
        "dict2 = {'b': 5, 'c': 15}\n",
        "\n",
        "d1=list(dict1.keys())\n",
        "d2=list(dict2.keys())\n",
        "\n",
        "v1=list(dict1.values())                 #made list of keys and values\n",
        "v2=list(dict2.values())\n",
        "# print(d1)\n",
        "# print(d2)\n",
        "\n",
        "for i in range(len(d1)):\n",
        "  for j in range(len(d2)):\n",
        "    if d1[i] == d2[j]:\n",
        "      # print(d1[i])\n",
        "      # print(v1[i],v2[j])\n",
        "      k=v1[i]+v2[j]\n",
        "\n",
        "dict1.update(dict2)\n",
        "dict1[d1[i]]=k\n",
        "print(dict1)\n"
      ]
    },
    {
      "cell_type": "code",
      "source": [
        "#QUESTION 10: Character Frequency\n",
        "#lower case\n",
        "n=input().lower()\n",
        "print(n)\n",
        "\n",
        "#frequency of each char\n",
        "t=set(n)\n",
        "t.remove(' ')\n",
        "# print(t)\n",
        "\n",
        "dict={}\n",
        "for i in t:\n",
        "  count=0\n",
        "  for j in n:\n",
        "    if i==j:\n",
        "      count+=1\n",
        "  print(i,'=',count)\n",
        "  #dictionaries making\n",
        "  if i not in dict:\n",
        "    dict[i]=count\n",
        "  else:\n",
        "    dict[key].append(i)\n",
        "print(dict)\n",
        "\n",
        "#don't know much about matplotlib\n"
      ],
      "metadata": {
        "colab": {
          "base_uri": "https://localhost:8080/"
        },
        "id": "Rlnqm-eLOEAW",
        "outputId": "6449257e-c71d-458e-cffd-57ba08c79507"
      },
      "id": "Rlnqm-eLOEAW",
      "execution_count": 30,
      "outputs": [
        {
          "output_type": "stream",
          "name": "stdout",
          "text": [
            "Hey how are you!\n",
            "hey how are you!\n",
            "a = 1\n",
            "e = 2\n",
            "y = 2\n",
            "u = 1\n",
            "h = 2\n",
            "w = 1\n",
            "o = 2\n",
            "r = 1\n",
            "! = 1\n",
            "{'a': 1, 'e': 2, 'y': 2, 'u': 1, 'h': 2, 'w': 1, 'o': 2, 'r': 1, '!': 1}\n"
          ]
        }
      ]
    },
    {
      "cell_type": "code",
      "source": [
        "#QUESTION 11:Remove Duplicates\n",
        "n=[1,1,1,2,3,4,53,6,4,3,6,8,7,83,45]\n",
        "n=set(n)\n",
        "# print(n)\n",
        "#for mean\n",
        "print('mean=',sum(n)/len(n))\n",
        "\n",
        "#for median\n",
        "\n",
        "list=list(n)\n",
        "t=len(list)\n",
        "list.sort()\n",
        "if t%2==0:\n",
        "    print('median=',(list[t//2]+list[t//2 -1])/2)\n",
        "else:\n",
        "    print('median=',list[t//2])\n",
        "\n"
      ],
      "metadata": {
        "colab": {
          "base_uri": "https://localhost:8080/"
        },
        "id": "kG7oDZOBcRKu",
        "outputId": "e5d94d41-0c91-4aa0-b0db-c604b3f8e719"
      },
      "id": "kG7oDZOBcRKu",
      "execution_count": 45,
      "outputs": [
        {
          "output_type": "stream",
          "name": "stdout",
          "text": [
            "mean= 21.2\n",
            "median= 6.5\n"
          ]
        }
      ]
    },
    {
      "cell_type": "code",
      "source": [
        "#QUESTION 12:String Operations\n",
        "l=['hello','are','u','ohdfjagskfc','jkdhfdsbvfcdbhficsdk','aeiou']\n",
        "m=0\n",
        "# print(type(m))\n",
        "#longest string\n",
        "for i in range(0,len(l)):\n",
        "  if len(l[i])>m:\n",
        "    m=len(l[i])\n",
        "    t=l[i]\n",
        "  else:\n",
        "    continue\n",
        "\n",
        "print(t)\n",
        "\n",
        "#words starting with vowel\n",
        "count=0\n",
        "for j in l:\n",
        "    if j[0] == 'a' or j[0] == 'e' or j[0] == 'i' or j[0] == 'o' or j[0]== 'u':\n",
        "      count+=1\n",
        "    else:\n",
        "      count+=0\n",
        "print(count)\n",
        "\n",
        "import matplotlib.pyplot as plt\n",
        "y=[len(i) for i in l]\n",
        "x=[i for i in l]\n",
        "plt.bar(x,y)\n",
        "plt.show"
      ],
      "metadata": {
        "colab": {
          "base_uri": "https://localhost:8080/",
          "height": 634
        },
        "id": "b7WPrJs9dl7u",
        "outputId": "6d87411a-9d5a-4cc7-9331-8eb4a5e894c5"
      },
      "id": "b7WPrJs9dl7u",
      "execution_count": 22,
      "outputs": [
        {
          "output_type": "stream",
          "name": "stdout",
          "text": [
            "jkdhfdsbvfcdbhficsdk\n",
            "4\n"
          ]
        },
        {
          "output_type": "execute_result",
          "data": {
            "text/plain": [
              "<function matplotlib.pyplot.show(close=None, block=None)>"
            ],
            "text/html": [
              "<div style=\"max-width:800px; border: 1px solid var(--colab-border-color);\"><style>\n",
              "      pre.function-repr-contents {\n",
              "        overflow-x: auto;\n",
              "        padding: 8px 12px;\n",
              "        max-height: 500px;\n",
              "      }\n",
              "\n",
              "      pre.function-repr-contents.function-repr-contents-collapsed {\n",
              "        cursor: pointer;\n",
              "        max-height: 100px;\n",
              "      }\n",
              "    </style>\n",
              "    <pre style=\"white-space: initial; background:\n",
              "         var(--colab-secondary-surface-color); padding: 8px 12px;\n",
              "         border-bottom: 1px solid var(--colab-border-color);\"><b>matplotlib.pyplot.show</b><br/>def show(*args, **kwargs)</pre><pre class=\"function-repr-contents function-repr-contents-collapsed\" style=\"\"><a class=\"filepath\" style=\"display:none\" href=\"#\">/usr/local/lib/python3.10/dist-packages/matplotlib/pyplot.py</a>Display all open figures.\n",
              "\n",
              "Parameters\n",
              "----------\n",
              "block : bool, optional\n",
              "    Whether to wait for all figures to be closed before returning.\n",
              "\n",
              "    If `True` block and run the GUI main loop until all figure windows\n",
              "    are closed.\n",
              "\n",
              "    If `False` ensure that all figure windows are displayed and return\n",
              "    immediately.  In this case, you are responsible for ensuring\n",
              "    that the event loop is running to have responsive figures.\n",
              "\n",
              "    Defaults to True in non-interactive mode and to False in interactive\n",
              "    mode (see `.pyplot.isinteractive`).\n",
              "\n",
              "See Also\n",
              "--------\n",
              "ion : Enable interactive mode, which shows / updates the figure after\n",
              "      every plotting command, so that calling ``show()`` is not necessary.\n",
              "ioff : Disable interactive mode.\n",
              "savefig : Save the figure to an image file instead of showing it on screen.\n",
              "\n",
              "Notes\n",
              "-----\n",
              "**Saving figures to file and showing a window at the same time**\n",
              "\n",
              "If you want an image file as well as a user interface window, use\n",
              "`.pyplot.savefig` before `.pyplot.show`. At the end of (a blocking)\n",
              "``show()`` the figure is closed and thus unregistered from pyplot. Calling\n",
              "`.pyplot.savefig` afterwards would save a new and thus empty figure. This\n",
              "limitation of command order does not apply if the show is non-blocking or\n",
              "if you keep a reference to the figure and use `.Figure.savefig`.\n",
              "\n",
              "**Auto-show in jupyter notebooks**\n",
              "\n",
              "The jupyter backends (activated via ``%matplotlib inline``,\n",
              "``%matplotlib notebook``, or ``%matplotlib widget``), call ``show()`` at\n",
              "the end of every cell by default. Thus, you usually don&#x27;t have to call it\n",
              "explicitly there.</pre>\n",
              "      <script>\n",
              "      if (google.colab.kernel.accessAllowed && google.colab.files && google.colab.files.view) {\n",
              "        for (const element of document.querySelectorAll('.filepath')) {\n",
              "          element.style.display = 'block'\n",
              "          element.onclick = (event) => {\n",
              "            event.preventDefault();\n",
              "            event.stopPropagation();\n",
              "            google.colab.files.view(element.textContent, 482);\n",
              "          };\n",
              "        }\n",
              "      }\n",
              "      for (const element of document.querySelectorAll('.function-repr-contents')) {\n",
              "        element.onclick = (event) => {\n",
              "          event.preventDefault();\n",
              "          event.stopPropagation();\n",
              "          element.classList.toggle('function-repr-contents-collapsed');\n",
              "        };\n",
              "      }\n",
              "      </script>\n",
              "      </div>"
            ]
          },
          "metadata": {},
          "execution_count": 22
        },
        {
          "output_type": "display_data",
          "data": {
            "text/plain": [
              "<Figure size 640x480 with 1 Axes>"
            ],
            "image/png": "[encoded data removed]"
          },
          "metadata": {}
        }
      ]
    },
    {
      "cell_type": "code",
      "source": [
        "#QUESTION 13: Sorting Dictionaries\n",
        "data = [{'name': 'Alice', 'age': 25}, {'name': 'Bob', 'age': 22}]\n",
        "# Sort by age → [{'name': 'Bob', 'age': 22}, {'name': 'Alice', 'age': 25}]\n",
        "data.sort(key=lambda x:x['age'])\n",
        "print(data)\n",
        "\n",
        "\n"
      ],
      "metadata": {
        "colab": {
          "base_uri": "https://localhost:8080/"
        },
        "id": "PxMv-B0qjA1V",
        "outputId": "c6ef683d-e97c-4016-cae7-72de9b3fbbf7"
      },
      "id": "PxMv-B0qjA1V",
      "execution_count": 4,
      "outputs": [
        {
          "output_type": "stream",
          "name": "stdout",
          "text": [
            "[{'name': 'Bob', 'age': 22}, {'name': 'Alice', 'age': 25}]\n"
          ]
        }
      ]
    },
    {
      "cell_type": "code",
      "source": [
        "#QUESTION 14: Word Filtering and Sorting\n",
        "n=input().split()\n",
        "t=[]\n",
        "for i in range(len(n)):\n",
        "  # print(i)\n",
        "  # print(len(i))\n",
        "  if (len(n[i]))>=(4):\n",
        "    t.append(n[i])\n",
        "print(t)\n",
        "t=sorted(t)\n",
        "print('sorted list',t)\n",
        "\n",
        "import matplotlib.pyplot as plt\n",
        "x=[i for i in n]\n",
        "y=[len(i) for i in n]\n",
        "plt.bar(x,y)\n",
        "plt.show()"
      ],
      "metadata": {
        "colab": {
          "base_uri": "https://localhost:8080/",
          "height": 482
        },
        "id": "emIV0Hpbb8EC",
        "outputId": "d7266e13-9f1a-4274-be5c-f5ed6327fd5e"
      },
      "id": "emIV0Hpbb8EC",
      "execution_count": 24,
      "outputs": [
        {
          "output_type": "stream",
          "name": "stdout",
          "text": [
            "hey peter how was your anatomy class. You joined a little late.\n",
            "['peter', 'your', 'anatomy', 'class.', 'joined', 'little', 'late.']\n",
            "sorted list ['anatomy', 'class.', 'joined', 'late.', 'little', 'peter', 'your']\n"
          ]
        },
        {
          "output_type": "display_data",
          "data": {
            "text/plain": [
              "<Figure size 640x480 with 1 Axes>"
            ],
            "image/png": "[encoded data removed]"
          },
          "metadata": {}
        }
      ]
    },
    {
      "cell_type": "code",
      "source": [
        "#QUESTION 15: Anagram Finder\n",
        "word = \"listen\"\n",
        "words = [\"enlist\", \"google\", \"inlets\", \"banana\"]\n",
        "sorted_word=sorted(word)\n",
        "# print(sorted_word)\n",
        "l=[]\n",
        "for i in words:\n",
        "  k=sorted(i)\n",
        "  if k==sorted_word:\n",
        "    l.append(i)\n",
        "print(l)\n",
        "\n",
        "\n",
        "\n"
      ],
      "metadata": {
        "colab": {
          "base_uri": "https://localhost:8080/"
        },
        "id": "-n9McB3giJW9",
        "outputId": "6b83f1f4-75a8-4844-f509-8439bc1d4cab"
      },
      "id": "-n9McB3giJW9",
      "execution_count": 28,
      "outputs": [
        {
          "output_type": "stream",
          "name": "stdout",
          "text": [
            "['enlist', 'inlets']\n"
          ]
        }
      ]
    },
    {
      "cell_type": "code",
      "source": [
        "#QUESTION 16:Set Operations\n",
        "a=[1,2,3,4,5]\n",
        "b=[4,5,6,7,8,9,10]\n",
        "a=set(a)\n",
        "b=set(b)\n",
        "\n",
        "z=a.union(b)\n",
        "print('union of a,b=',z)\n",
        "\n",
        "y=a.intersection(b)\n",
        "print('intersection of a,b=',y)\n",
        "\n",
        "sym=a.symmetric_difference(b)\n",
        "print('symmetric_difference',sym)\n",
        "\n",
        "from matplotlib_venn import venn2\n",
        "from matplotlib import pyplot as plt\n",
        "\n",
        "venn2(subsets = (a,b), set_labels = (' A', ' B'))\n",
        "plt.show()\n"
      ],
      "metadata": {
        "colab": {
          "base_uri": "https://localhost:8080/",
          "height": 455
        },
        "id": "K6yp9sAaBsJN",
        "outputId": "e5df7c7b-4c5b-4923-9bb6-05e4bc3c29a5"
      },
      "id": "K6yp9sAaBsJN",
      "execution_count": 16,
      "outputs": [
        {
          "output_type": "stream",
          "name": "stdout",
          "text": [
            "union of a,b= {1, 2, 3, 4, 5, 6, 7, 8, 9, 10}\n",
            "intersection of a,b= {4, 5}\n",
            "symmetric_difference {1, 2, 3, 6, 7, 8, 9, 10}\n"
          ]
        },
        {
          "output_type": "display_data",
          "data": {
            "text/plain": [
              "<Figure size 640x480 with 1 Axes>"
            ],
            "image/png": "[encoded data removed]"
          },
          "metadata": {}
        }
      ]
    },
    {
      "cell_type": "code",
      "source": [
        "#QUESTION 17: File Operations\n",
        "f=open('new_file')"
      ],
      "metadata": {
        "colab": {
          "base_uri": "https://localhost:8080/",
          "height": 158
        },
        "id": "DhSeB2o2qrT-",
        "outputId": "526fb03c-1de9-4686-ea96-19d4667bd53e"
      },
      "id": "DhSeB2o2qrT-",
      "execution_count": 17,
      "outputs": [
        {
          "output_type": "error",
          "ename": "FileNotFoundError",
          "evalue": "[Errno 2] No such file or directory: 'new_file'",
          "traceback": [
            "\u001b[0;31m---------------------------------------------------------------------------\u001b[0m",
            "\u001b[0;31mFileNotFoundError\u001b[0m                         Traceback (most recent call last)",
            "\u001b[0;32m<ipython-input-17-a1c335e0e73d>\u001b[0m in \u001b[0;36m<cell line: 2>\u001b[0;34m()\u001b[0m\n\u001b[1;32m      1\u001b[0m \u001b[0;31m#QUESTION 17: File Operations\u001b[0m\u001b[0;34m\u001b[0m\u001b[0;34m\u001b[0m\u001b[0m\n\u001b[0;32m----> 2\u001b[0;31m \u001b[0mf\u001b[0m\u001b[0;34m=\u001b[0m\u001b[0mopen\u001b[0m\u001b[0;34m(\u001b[0m\u001b[0;34m'new_file'\u001b[0m\u001b[0;34m)\u001b[0m\u001b[0;34m\u001b[0m\u001b[0;34m\u001b[0m\u001b[0m\n\u001b[0m",
            "\u001b[0;31mFileNotFoundError\u001b[0m: [Errno 2] No such file or directory: 'new_file'"
          ]
        }
      ]
    },
    {
      "cell_type": "code",
      "execution_count": null,
      "id": "5a7ff529-c7ce-45f9-921f-4821d3255ed6",
      "metadata": {
        "id": "5a7ff529-c7ce-45f9-921f-4821d3255ed6",
        "outputId": "f88bd4ea-eb76-4c7c-e1ac-7f03d0de05d6"
      },
      "outputs": [
        {
          "name": "stdin",
          "output_type": "stream",
          "text": [
            " 3\n"
          ]
        },
        {
          "name": "stdout",
          "output_type": "stream",
          "text": [
            "odd\n"
          ]
        }
      ],
      "source": [
        "#QUESTION 23:Even or Odd\n",
        "n=int(input())\n",
        "if n%2==0:\n",
        "    print('even')\n",
        "else:\n",
        "    print('odd')"
      ]
    },
    {
      "cell_type": "code",
      "execution_count": null,
      "id": "40daa715-e0d6-4045-9db4-d1741df986da",
      "metadata": {
        "id": "40daa715-e0d6-4045-9db4-d1741df986da",
        "outputId": "f30904b0-cb6b-4258-ca2c-59cb82f6d05d"
      },
      "outputs": [
        {
          "name": "stdin",
          "output_type": "stream",
          "text": [
            " 78\n"
          ]
        },
        {
          "name": "stdout",
          "output_type": "stream",
          "text": [
            "c\n"
          ]
        }
      ],
      "source": [
        "#QUESTION 24:Grade Calculator\n",
        "n=int(input())\n",
        "if 0<=n<60:\n",
        "    print('F')\n",
        "elif 60<=n<70:\n",
        "    print('D')\n",
        "elif 70<=n<80:\n",
        "    print('c')\n",
        "elif 80<=n<90:\n",
        "    print('B')\n",
        "elif 90<=n<100:\n",
        "    print('A')"
      ]
    },
    {
      "cell_type": "code",
      "source": [
        "#QUESTION 25: leap year\n",
        "def check(n):\n",
        "  if n%4==0 and n%100!=0:\n",
        "    print('LEAP YEAR!!')\n",
        "  elif n%400==0:\n",
        "    print('LEAP YEAR')\n",
        "  else:\n",
        "    print('NOT LEAP YEAR')\n",
        "\n",
        "print(check(1900))\n",
        "print(check(2000))\n",
        "print(check(2022))\n",
        "print(check(2024))"
      ],
      "metadata": {
        "colab": {
          "base_uri": "https://localhost:8080/"
        },
        "id": "710ucIjDtlq8",
        "outputId": "5fad76c2-c2d2-4301-ad14-7b5a5c85650c"
      },
      "id": "710ucIjDtlq8",
      "execution_count": 29,
      "outputs": [
        {
          "output_type": "stream",
          "name": "stdout",
          "text": [
            "NOT LEAP YEAR\n",
            "None\n",
            "LEAP YEAR\n",
            "None\n",
            "NOT LEAP YEAR\n",
            "None\n",
            "LEAP YEAR!!\n",
            "None\n"
          ]
        }
      ]
    }
  ],
  "metadata": {
    "kernelspec": {
      "display_name": "Python 3",
      "name": "python3"
    },
    "language_info": {
      "codemirror_mode": {
        "name": "ipython",
        "version": 3
      },
      "file_extension": ".py",
      "mimetype": "text/x-python",
      "name": "python",
      "nbconvert_exporter": "python",
      "pygments_lexer": "ipython3",
      "version": "3.12.8"
    },
    "colab": {
      "provenance": [],
      "include_colab_link": true
    }
  },
  "nbformat": 4,
  "nbformat_minor": 5
}